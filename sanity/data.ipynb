{
 "cells": [
  {
   "cell_type": "code",
   "execution_count": 1,
   "metadata": {},
   "outputs": [],
   "source": [
    "class Namespace:\n",
    "    def __init__(self, **kwargs):\n",
    "        self.__dict__.update(kwargs)"
   ]
  },
  {
   "cell_type": "code",
   "execution_count": 2,
   "metadata": {},
   "outputs": [],
   "source": [
    "args = Namespace(\n",
    "    img_per_class=0, \n",
    "    dataset=\"cifar10\", \n",
    "    cheatsheet=True,\n",
    "    cs_size=8,\n",
    "    one_image=False,\n",
    "    one_image_per_class=False,\n",
    "    randomize_sheet=True\n",
    ")"
   ]
  },
  {
   "cell_type": "code",
   "execution_count": null,
   "metadata": {},
   "outputs": [],
   "source": [
    "from utils.data import get_dataset, get_dataloader\n",
    "train_data, test_data = get_dataset(args, True)\n",
    "train_dataload\n"
   ]
  }
 ],
 "metadata": {
  "kernelspec": {
   "display_name": "cheatsheet",
   "language": "python",
   "name": "python3"
  },
  "language_info": {
   "codemirror_mode": {
    "name": "ipython",
    "version": 3
   },
   "file_extension": ".py",
   "mimetype": "text/x-python",
   "name": "python",
   "nbconvert_exporter": "python",
   "pygments_lexer": "ipython3",
   "version": "3.11.5"
  }
 },
 "nbformat": 4,
 "nbformat_minor": 2
}
